{
 "cells": [
  {
   "cell_type": "code",
   "execution_count": 1,
   "metadata": {
    "ExecuteTime": {
     "end_time": "2023-09-05T19:20:24.189449900Z",
     "start_time": "2023-09-05T19:19:01.130102100Z"
    }
   },
   "outputs": [],
   "source": [
    "import pandas as pd\n",
    "import numpy as np\n",
    "import warnings \n",
    "warnings.filterwarnings(\"ignore\")"
   ]
  },
  {
   "cell_type": "code",
   "execution_count": 2,
   "metadata": {
    "ExecuteTime": {
     "end_time": "2023-09-05T19:20:37.212181400Z",
     "start_time": "2023-09-05T19:20:36.982608800Z"
    }
   },
   "outputs": [
    {
     "data": {
      "text/plain": "   id  carat        cut color clarity  depth  table     x     y     z  price\n0   0   1.52    Premium     F     VS2   62.2   58.0  7.27  7.33  4.55  13619\n1   1   2.03  Very Good     J     SI2   62.0   58.0  8.06  8.12  5.05  13387\n2   2   0.70      Ideal     G     VS1   61.2   57.0  5.69  5.73  3.50   2772\n3   3   0.32      Ideal     G     VS1   61.6   56.0  4.38  4.41  2.71    666\n4   4   1.70    Premium     G     VS2   62.6   59.0  7.65  7.61  4.77  14453",
      "text/html": "<div>\n<style scoped>\n    .dataframe tbody tr th:only-of-type {\n        vertical-align: middle;\n    }\n\n    .dataframe tbody tr th {\n        vertical-align: top;\n    }\n\n    .dataframe thead th {\n        text-align: right;\n    }\n</style>\n<table border=\"1\" class=\"dataframe\">\n  <thead>\n    <tr style=\"text-align: right;\">\n      <th></th>\n      <th>id</th>\n      <th>carat</th>\n      <th>cut</th>\n      <th>color</th>\n      <th>clarity</th>\n      <th>depth</th>\n      <th>table</th>\n      <th>x</th>\n      <th>y</th>\n      <th>z</th>\n      <th>price</th>\n    </tr>\n  </thead>\n  <tbody>\n    <tr>\n      <th>0</th>\n      <td>0</td>\n      <td>1.52</td>\n      <td>Premium</td>\n      <td>F</td>\n      <td>VS2</td>\n      <td>62.2</td>\n      <td>58.0</td>\n      <td>7.27</td>\n      <td>7.33</td>\n      <td>4.55</td>\n      <td>13619</td>\n    </tr>\n    <tr>\n      <th>1</th>\n      <td>1</td>\n      <td>2.03</td>\n      <td>Very Good</td>\n      <td>J</td>\n      <td>SI2</td>\n      <td>62.0</td>\n      <td>58.0</td>\n      <td>8.06</td>\n      <td>8.12</td>\n      <td>5.05</td>\n      <td>13387</td>\n    </tr>\n    <tr>\n      <th>2</th>\n      <td>2</td>\n      <td>0.70</td>\n      <td>Ideal</td>\n      <td>G</td>\n      <td>VS1</td>\n      <td>61.2</td>\n      <td>57.0</td>\n      <td>5.69</td>\n      <td>5.73</td>\n      <td>3.50</td>\n      <td>2772</td>\n    </tr>\n    <tr>\n      <th>3</th>\n      <td>3</td>\n      <td>0.32</td>\n      <td>Ideal</td>\n      <td>G</td>\n      <td>VS1</td>\n      <td>61.6</td>\n      <td>56.0</td>\n      <td>4.38</td>\n      <td>4.41</td>\n      <td>2.71</td>\n      <td>666</td>\n    </tr>\n    <tr>\n      <th>4</th>\n      <td>4</td>\n      <td>1.70</td>\n      <td>Premium</td>\n      <td>G</td>\n      <td>VS2</td>\n      <td>62.6</td>\n      <td>59.0</td>\n      <td>7.65</td>\n      <td>7.61</td>\n      <td>4.77</td>\n      <td>14453</td>\n    </tr>\n  </tbody>\n</table>\n</div>"
     },
     "execution_count": 2,
     "metadata": {},
     "output_type": "execute_result"
    }
   ],
   "source": [
    "df = pd.read_csv(\"data/gemstone.csv\")\n",
    "df.head()"
   ]
  },
  {
   "cell_type": "code",
   "execution_count": 3,
   "metadata": {
    "ExecuteTime": {
     "end_time": "2023-09-05T19:20:46.329171600Z",
     "start_time": "2023-09-05T19:20:46.258967900Z"
    }
   },
   "outputs": [],
   "source": [
    "df.drop(labels=\"id\",axis=1,inplace=True)"
   ]
  },
  {
   "cell_type": "code",
   "execution_count": 4,
   "metadata": {
    "ExecuteTime": {
     "end_time": "2023-09-05T19:20:51.130411400Z",
     "start_time": "2023-09-05T19:20:51.105086Z"
    }
   },
   "outputs": [],
   "source": [
    "x = df.drop(\"price\",axis=1)\n",
    "y = pd.DataFrame(data=df[\"price\"])"
   ]
  },
  {
   "cell_type": "code",
   "execution_count": 5,
   "metadata": {
    "ExecuteTime": {
     "end_time": "2023-09-05T19:20:54.072402400Z",
     "start_time": "2023-09-05T19:20:54.007877300Z"
    }
   },
   "outputs": [
    {
     "data": {
      "text/plain": "        carat        cut color clarity  depth  table     x     y     z\n0        1.52    Premium     F     VS2   62.2   58.0  7.27  7.33  4.55\n1        2.03  Very Good     J     SI2   62.0   58.0  8.06  8.12  5.05\n2        0.70      Ideal     G     VS1   61.2   57.0  5.69  5.73  3.50\n3        0.32      Ideal     G     VS1   61.6   56.0  4.38  4.41  2.71\n4        1.70    Premium     G     VS2   62.6   59.0  7.65  7.61  4.77\n...       ...        ...   ...     ...    ...    ...   ...   ...   ...\n193568   0.31      Ideal     D    VVS2   61.1   56.0  4.35  4.39  2.67\n193569   0.70    Premium     G    VVS2   60.3   58.0  5.75  5.77  3.47\n193570   0.73  Very Good     F     SI1   63.1   57.0  5.72  5.75  3.62\n193571   0.34  Very Good     D     SI1   62.9   55.0  4.45  4.49  2.81\n193572   0.71       Good     E     SI2   60.8   64.0  5.73  5.71  3.48\n\n[193573 rows x 9 columns]",
      "text/html": "<div>\n<style scoped>\n    .dataframe tbody tr th:only-of-type {\n        vertical-align: middle;\n    }\n\n    .dataframe tbody tr th {\n        vertical-align: top;\n    }\n\n    .dataframe thead th {\n        text-align: right;\n    }\n</style>\n<table border=\"1\" class=\"dataframe\">\n  <thead>\n    <tr style=\"text-align: right;\">\n      <th></th>\n      <th>carat</th>\n      <th>cut</th>\n      <th>color</th>\n      <th>clarity</th>\n      <th>depth</th>\n      <th>table</th>\n      <th>x</th>\n      <th>y</th>\n      <th>z</th>\n    </tr>\n  </thead>\n  <tbody>\n    <tr>\n      <th>0</th>\n      <td>1.52</td>\n      <td>Premium</td>\n      <td>F</td>\n      <td>VS2</td>\n      <td>62.2</td>\n      <td>58.0</td>\n      <td>7.27</td>\n      <td>7.33</td>\n      <td>4.55</td>\n    </tr>\n    <tr>\n      <th>1</th>\n      <td>2.03</td>\n      <td>Very Good</td>\n      <td>J</td>\n      <td>SI2</td>\n      <td>62.0</td>\n      <td>58.0</td>\n      <td>8.06</td>\n      <td>8.12</td>\n      <td>5.05</td>\n    </tr>\n    <tr>\n      <th>2</th>\n      <td>0.70</td>\n      <td>Ideal</td>\n      <td>G</td>\n      <td>VS1</td>\n      <td>61.2</td>\n      <td>57.0</td>\n      <td>5.69</td>\n      <td>5.73</td>\n      <td>3.50</td>\n    </tr>\n    <tr>\n      <th>3</th>\n      <td>0.32</td>\n      <td>Ideal</td>\n      <td>G</td>\n      <td>VS1</td>\n      <td>61.6</td>\n      <td>56.0</td>\n      <td>4.38</td>\n      <td>4.41</td>\n      <td>2.71</td>\n    </tr>\n    <tr>\n      <th>4</th>\n      <td>1.70</td>\n      <td>Premium</td>\n      <td>G</td>\n      <td>VS2</td>\n      <td>62.6</td>\n      <td>59.0</td>\n      <td>7.65</td>\n      <td>7.61</td>\n      <td>4.77</td>\n    </tr>\n    <tr>\n      <th>...</th>\n      <td>...</td>\n      <td>...</td>\n      <td>...</td>\n      <td>...</td>\n      <td>...</td>\n      <td>...</td>\n      <td>...</td>\n      <td>...</td>\n      <td>...</td>\n    </tr>\n    <tr>\n      <th>193568</th>\n      <td>0.31</td>\n      <td>Ideal</td>\n      <td>D</td>\n      <td>VVS2</td>\n      <td>61.1</td>\n      <td>56.0</td>\n      <td>4.35</td>\n      <td>4.39</td>\n      <td>2.67</td>\n    </tr>\n    <tr>\n      <th>193569</th>\n      <td>0.70</td>\n      <td>Premium</td>\n      <td>G</td>\n      <td>VVS2</td>\n      <td>60.3</td>\n      <td>58.0</td>\n      <td>5.75</td>\n      <td>5.77</td>\n      <td>3.47</td>\n    </tr>\n    <tr>\n      <th>193570</th>\n      <td>0.73</td>\n      <td>Very Good</td>\n      <td>F</td>\n      <td>SI1</td>\n      <td>63.1</td>\n      <td>57.0</td>\n      <td>5.72</td>\n      <td>5.75</td>\n      <td>3.62</td>\n    </tr>\n    <tr>\n      <th>193571</th>\n      <td>0.34</td>\n      <td>Very Good</td>\n      <td>D</td>\n      <td>SI1</td>\n      <td>62.9</td>\n      <td>55.0</td>\n      <td>4.45</td>\n      <td>4.49</td>\n      <td>2.81</td>\n    </tr>\n    <tr>\n      <th>193572</th>\n      <td>0.71</td>\n      <td>Good</td>\n      <td>E</td>\n      <td>SI2</td>\n      <td>60.8</td>\n      <td>64.0</td>\n      <td>5.73</td>\n      <td>5.71</td>\n      <td>3.48</td>\n    </tr>\n  </tbody>\n</table>\n<p>193573 rows × 9 columns</p>\n</div>"
     },
     "execution_count": 5,
     "metadata": {},
     "output_type": "execute_result"
    }
   ],
   "source": [
    "x"
   ]
  },
  {
   "cell_type": "code",
   "execution_count": 6,
   "metadata": {},
   "outputs": [
    {
     "data": {
      "text/html": [
       "<div>\n",
       "<style scoped>\n",
       "    .dataframe tbody tr th:only-of-type {\n",
       "        vertical-align: middle;\n",
       "    }\n",
       "\n",
       "    .dataframe tbody tr th {\n",
       "        vertical-align: top;\n",
       "    }\n",
       "\n",
       "    .dataframe thead th {\n",
       "        text-align: right;\n",
       "    }\n",
       "</style>\n",
       "<table border=\"1\" class=\"dataframe\">\n",
       "  <thead>\n",
       "    <tr style=\"text-align: right;\">\n",
       "      <th></th>\n",
       "      <th>price</th>\n",
       "    </tr>\n",
       "  </thead>\n",
       "  <tbody>\n",
       "    <tr>\n",
       "      <th>0</th>\n",
       "      <td>13619</td>\n",
       "    </tr>\n",
       "    <tr>\n",
       "      <th>1</th>\n",
       "      <td>13387</td>\n",
       "    </tr>\n",
       "    <tr>\n",
       "      <th>2</th>\n",
       "      <td>2772</td>\n",
       "    </tr>\n",
       "    <tr>\n",
       "      <th>3</th>\n",
       "      <td>666</td>\n",
       "    </tr>\n",
       "    <tr>\n",
       "      <th>4</th>\n",
       "      <td>14453</td>\n",
       "    </tr>\n",
       "    <tr>\n",
       "      <th>...</th>\n",
       "      <td>...</td>\n",
       "    </tr>\n",
       "    <tr>\n",
       "      <th>193568</th>\n",
       "      <td>1130</td>\n",
       "    </tr>\n",
       "    <tr>\n",
       "      <th>193569</th>\n",
       "      <td>2874</td>\n",
       "    </tr>\n",
       "    <tr>\n",
       "      <th>193570</th>\n",
       "      <td>3036</td>\n",
       "    </tr>\n",
       "    <tr>\n",
       "      <th>193571</th>\n",
       "      <td>681</td>\n",
       "    </tr>\n",
       "    <tr>\n",
       "      <th>193572</th>\n",
       "      <td>2258</td>\n",
       "    </tr>\n",
       "  </tbody>\n",
       "</table>\n",
       "<p>193573 rows × 1 columns</p>\n",
       "</div>"
      ],
      "text/plain": [
       "        price\n",
       "0       13619\n",
       "1       13387\n",
       "2        2772\n",
       "3         666\n",
       "4       14453\n",
       "...       ...\n",
       "193568   1130\n",
       "193569   2874\n",
       "193570   3036\n",
       "193571    681\n",
       "193572   2258\n",
       "\n",
       "[193573 rows x 1 columns]"
      ]
     },
     "execution_count": 6,
     "metadata": {},
     "output_type": "execute_result"
    }
   ],
   "source": [
    "y"
   ]
  },
  {
   "cell_type": "code",
   "execution_count": 7,
   "metadata": {},
   "outputs": [
    {
     "name": "stdout",
     "output_type": "stream",
     "text": [
      "Index(['carat', 'depth', 'table', 'x', 'y', 'z'], dtype='object')\n",
      "Index(['cut', 'color', 'clarity'], dtype='object')\n"
     ]
    }
   ],
   "source": [
    "numerical_columns = x.columns[x.dtypes!=\"object\"]\n",
    "categorical_columns = x.columns[x.dtypes==\"object\"]\n",
    "print(numerical_columns)\n",
    "print(categorical_columns)"
   ]
  },
  {
   "cell_type": "code",
   "execution_count": 8,
   "metadata": {},
   "outputs": [],
   "source": [
    "cut_map = [\"Fair\",\"Good\",\"Very Good\",\"Premium\",\"Ideal\"]\n",
    "clarity_map = [\"I1\",\"SI2\",\"SI1\",\"VS2\",\"VS1\",\"VVS2\",\"VVS1\",\"IF\"]\n",
    "color_map = [\"D\",\"E\",\"F\",\"G\",\"H\",\"I\",\"J\"]   "
   ]
  },
  {
   "cell_type": "code",
   "execution_count": 9,
   "metadata": {},
   "outputs": [],
   "source": [
    "from sklearn.impute import SimpleImputer\n",
    "from sklearn.preprocessing import StandardScaler\n",
    "from sklearn.preprocessing import OrdinalEncoder\n",
    "from sklearn.pipeline import Pipeline\n",
    "from sklearn.compose import ColumnTransformer"
   ]
  },
  {
   "cell_type": "code",
   "execution_count": 10,
   "metadata": {},
   "outputs": [],
   "source": [
    "num_pipeline = Pipeline(\n",
    "    steps = [\n",
    "        (\"Imputer\",SimpleImputer(strategy=\"median\")),\n",
    "        (\"Scaler\",StandardScaler())\n",
    "    ]\n",
    ")\n",
    "\n",
    "cat_pipeline = Pipeline(\n",
    "    steps = [\n",
    "        (\"Imputer\",SimpleImputer(strategy=\"most_frequent\")),\n",
    "        (\"OrdinalEncoder\",OrdinalEncoder(categories=[cut_map,color_map,clarity_map])),\n",
    "        (\"Scaler\",StandardScaler())\n",
    "    ]\n",
    "\n",
    ")"
   ]
  },
  {
   "cell_type": "code",
   "execution_count": 11,
   "metadata": {},
   "outputs": [],
   "source": [
    "preprocessor = ColumnTransformer([\n",
    "    (\"num_pipeline\",num_pipeline,numerical_columns),\n",
    "    (\"cat_pipeline\",cat_pipeline,categorical_columns)\n",
    "])"
   ]
  },
  {
   "cell_type": "code",
   "execution_count": 12,
   "metadata": {},
   "outputs": [],
   "source": [
    "from sklearn.model_selection import train_test_split\n",
    "x_train,x_test,y_train,y_test = train_test_split(x,y,test_size=0.33,random_state=42)"
   ]
  },
  {
   "cell_type": "code",
   "execution_count": 13,
   "metadata": {},
   "outputs": [],
   "source": [
    "x_train_processed = pd.DataFrame(preprocessor.fit_transform(x_train),columns=preprocessor.get_feature_names_out())\n",
    "x_test_processed = pd.DataFrame(preprocessor.transform(x_test),columns=preprocessor.get_feature_names_out())\n",
    "y_train = y_train.reset_index(drop=True)"
   ]
  },
  {
   "cell_type": "code",
   "execution_count": 14,
   "metadata": {},
   "outputs": [
    {
     "data": {
      "text/html": [
       "<div>\n",
       "<style scoped>\n",
       "    .dataframe tbody tr th:only-of-type {\n",
       "        vertical-align: middle;\n",
       "    }\n",
       "\n",
       "    .dataframe tbody tr th {\n",
       "        vertical-align: top;\n",
       "    }\n",
       "\n",
       "    .dataframe thead th {\n",
       "        text-align: right;\n",
       "    }\n",
       "</style>\n",
       "<table border=\"1\" class=\"dataframe\">\n",
       "  <thead>\n",
       "    <tr style=\"text-align: right;\">\n",
       "      <th></th>\n",
       "      <th>num_pipeline__carat</th>\n",
       "      <th>num_pipeline__depth</th>\n",
       "      <th>num_pipeline__table</th>\n",
       "      <th>num_pipeline__x</th>\n",
       "      <th>num_pipeline__y</th>\n",
       "      <th>num_pipeline__z</th>\n",
       "      <th>cat_pipeline__cut</th>\n",
       "      <th>cat_pipeline__color</th>\n",
       "      <th>cat_pipeline__clarity</th>\n",
       "    </tr>\n",
       "  </thead>\n",
       "  <tbody>\n",
       "    <tr>\n",
       "      <th>0</th>\n",
       "      <td>2.626061</td>\n",
       "      <td>-2.888129</td>\n",
       "      <td>0.400868</td>\n",
       "      <td>2.233112</td>\n",
       "      <td>2.216066</td>\n",
       "      <td>1.856561</td>\n",
       "      <td>-0.130933</td>\n",
       "      <td>1.525655</td>\n",
       "      <td>-1.314696</td>\n",
       "    </tr>\n",
       "    <tr>\n",
       "      <th>1</th>\n",
       "      <td>-0.845291</td>\n",
       "      <td>0.164716</td>\n",
       "      <td>0.922458</td>\n",
       "      <td>-0.915966</td>\n",
       "      <td>-0.908068</td>\n",
       "      <td>-0.890852</td>\n",
       "      <td>-0.130933</td>\n",
       "      <td>-0.937159</td>\n",
       "      <td>-0.648656</td>\n",
       "    </tr>\n",
       "    <tr>\n",
       "      <th>2</th>\n",
       "      <td>-0.845291</td>\n",
       "      <td>-1.500472</td>\n",
       "      <td>1.965640</td>\n",
       "      <td>-0.843987</td>\n",
       "      <td>-0.899013</td>\n",
       "      <td>-0.963153</td>\n",
       "      <td>-0.130933</td>\n",
       "      <td>-0.321455</td>\n",
       "      <td>-0.648656</td>\n",
       "    </tr>\n",
       "    <tr>\n",
       "      <th>3</th>\n",
       "      <td>-0.694363</td>\n",
       "      <td>-0.667878</td>\n",
       "      <td>-0.642314</td>\n",
       "      <td>-0.637048</td>\n",
       "      <td>-0.636405</td>\n",
       "      <td>-0.673951</td>\n",
       "      <td>0.874463</td>\n",
       "      <td>-0.937159</td>\n",
       "      <td>-1.314696</td>\n",
       "    </tr>\n",
       "    <tr>\n",
       "      <th>4</th>\n",
       "      <td>1.548002</td>\n",
       "      <td>-0.482857</td>\n",
       "      <td>1.444049</td>\n",
       "      <td>1.477333</td>\n",
       "      <td>1.455407</td>\n",
       "      <td>1.393839</td>\n",
       "      <td>-0.130933</td>\n",
       "      <td>1.525655</td>\n",
       "      <td>0.683424</td>\n",
       "    </tr>\n",
       "    <tr>\n",
       "      <th>...</th>\n",
       "      <td>...</td>\n",
       "      <td>...</td>\n",
       "      <td>...</td>\n",
       "      <td>...</td>\n",
       "      <td>...</td>\n",
       "      <td>...</td>\n",
       "      <td>...</td>\n",
       "      <td>...</td>\n",
       "      <td>...</td>\n",
       "    </tr>\n",
       "    <tr>\n",
       "      <th>129688</th>\n",
       "      <td>-0.629679</td>\n",
       "      <td>-1.500472</td>\n",
       "      <td>1.965640</td>\n",
       "      <td>-0.547074</td>\n",
       "      <td>-0.518684</td>\n",
       "      <td>-0.645031</td>\n",
       "      <td>-1.136330</td>\n",
       "      <td>-0.937159</td>\n",
       "      <td>-0.648656</td>\n",
       "    </tr>\n",
       "    <tr>\n",
       "      <th>129689</th>\n",
       "      <td>2.410449</td>\n",
       "      <td>0.442247</td>\n",
       "      <td>2.487231</td>\n",
       "      <td>1.918204</td>\n",
       "      <td>1.871959</td>\n",
       "      <td>1.928861</td>\n",
       "      <td>-1.136330</td>\n",
       "      <td>-0.321455</td>\n",
       "      <td>-0.648656</td>\n",
       "    </tr>\n",
       "    <tr>\n",
       "      <th>129690</th>\n",
       "      <td>0.922727</td>\n",
       "      <td>0.904800</td>\n",
       "      <td>0.400868</td>\n",
       "      <td>0.991476</td>\n",
       "      <td>0.921135</td>\n",
       "      <td>1.046797</td>\n",
       "      <td>-0.130933</td>\n",
       "      <td>0.294248</td>\n",
       "      <td>0.017384</td>\n",
       "    </tr>\n",
       "    <tr>\n",
       "      <th>129691</th>\n",
       "      <td>-1.039342</td>\n",
       "      <td>-0.667878</td>\n",
       "      <td>-0.642314</td>\n",
       "      <td>-1.212879</td>\n",
       "      <td>-1.197843</td>\n",
       "      <td>-1.252354</td>\n",
       "      <td>-1.136330</td>\n",
       "      <td>0.294248</td>\n",
       "      <td>2.015504</td>\n",
       "    </tr>\n",
       "    <tr>\n",
       "      <th>129692</th>\n",
       "      <td>-1.039342</td>\n",
       "      <td>-0.020305</td>\n",
       "      <td>0.922458</td>\n",
       "      <td>-1.239871</td>\n",
       "      <td>-1.215954</td>\n",
       "      <td>-1.208974</td>\n",
       "      <td>-1.136330</td>\n",
       "      <td>0.294248</td>\n",
       "      <td>-1.314696</td>\n",
       "    </tr>\n",
       "  </tbody>\n",
       "</table>\n",
       "<p>129693 rows × 9 columns</p>\n",
       "</div>"
      ],
      "text/plain": [
       "        num_pipeline__carat  num_pipeline__depth  num_pipeline__table  \\\n",
       "0                  2.626061            -2.888129             0.400868   \n",
       "1                 -0.845291             0.164716             0.922458   \n",
       "2                 -0.845291            -1.500472             1.965640   \n",
       "3                 -0.694363            -0.667878            -0.642314   \n",
       "4                  1.548002            -0.482857             1.444049   \n",
       "...                     ...                  ...                  ...   \n",
       "129688            -0.629679            -1.500472             1.965640   \n",
       "129689             2.410449             0.442247             2.487231   \n",
       "129690             0.922727             0.904800             0.400868   \n",
       "129691            -1.039342            -0.667878            -0.642314   \n",
       "129692            -1.039342            -0.020305             0.922458   \n",
       "\n",
       "        num_pipeline__x  num_pipeline__y  num_pipeline__z  cat_pipeline__cut  \\\n",
       "0              2.233112         2.216066         1.856561          -0.130933   \n",
       "1             -0.915966        -0.908068        -0.890852          -0.130933   \n",
       "2             -0.843987        -0.899013        -0.963153          -0.130933   \n",
       "3             -0.637048        -0.636405        -0.673951           0.874463   \n",
       "4              1.477333         1.455407         1.393839          -0.130933   \n",
       "...                 ...              ...              ...                ...   \n",
       "129688        -0.547074        -0.518684        -0.645031          -1.136330   \n",
       "129689         1.918204         1.871959         1.928861          -1.136330   \n",
       "129690         0.991476         0.921135         1.046797          -0.130933   \n",
       "129691        -1.212879        -1.197843        -1.252354          -1.136330   \n",
       "129692        -1.239871        -1.215954        -1.208974          -1.136330   \n",
       "\n",
       "        cat_pipeline__color  cat_pipeline__clarity  \n",
       "0                  1.525655              -1.314696  \n",
       "1                 -0.937159              -0.648656  \n",
       "2                 -0.321455              -0.648656  \n",
       "3                 -0.937159              -1.314696  \n",
       "4                  1.525655               0.683424  \n",
       "...                     ...                    ...  \n",
       "129688            -0.937159              -0.648656  \n",
       "129689            -0.321455              -0.648656  \n",
       "129690             0.294248               0.017384  \n",
       "129691             0.294248               2.015504  \n",
       "129692             0.294248              -1.314696  \n",
       "\n",
       "[129693 rows x 9 columns]"
      ]
     },
     "execution_count": 14,
     "metadata": {},
     "output_type": "execute_result"
    }
   ],
   "source": [
    "x_train_processed"
   ]
  },
  {
   "cell_type": "code",
   "execution_count": 15,
   "metadata": {},
   "outputs": [
    {
     "data": {
      "text/html": [
       "<div>\n",
       "<style scoped>\n",
       "    .dataframe tbody tr th:only-of-type {\n",
       "        vertical-align: middle;\n",
       "    }\n",
       "\n",
       "    .dataframe tbody tr th {\n",
       "        vertical-align: top;\n",
       "    }\n",
       "\n",
       "    .dataframe thead th {\n",
       "        text-align: right;\n",
       "    }\n",
       "</style>\n",
       "<table border=\"1\" class=\"dataframe\">\n",
       "  <thead>\n",
       "    <tr style=\"text-align: right;\">\n",
       "      <th></th>\n",
       "      <th>price</th>\n",
       "    </tr>\n",
       "  </thead>\n",
       "  <tbody>\n",
       "    <tr>\n",
       "      <th>0</th>\n",
       "      <td>16075</td>\n",
       "    </tr>\n",
       "    <tr>\n",
       "      <th>1</th>\n",
       "      <td>904</td>\n",
       "    </tr>\n",
       "    <tr>\n",
       "      <th>2</th>\n",
       "      <td>1016</td>\n",
       "    </tr>\n",
       "    <tr>\n",
       "      <th>3</th>\n",
       "      <td>1173</td>\n",
       "    </tr>\n",
       "    <tr>\n",
       "      <th>4</th>\n",
       "      <td>11655</td>\n",
       "    </tr>\n",
       "    <tr>\n",
       "      <th>...</th>\n",
       "      <td>...</td>\n",
       "    </tr>\n",
       "    <tr>\n",
       "      <th>129688</th>\n",
       "      <td>1410</td>\n",
       "    </tr>\n",
       "    <tr>\n",
       "      <th>129689</th>\n",
       "      <td>15064</td>\n",
       "    </tr>\n",
       "    <tr>\n",
       "      <th>129690</th>\n",
       "      <td>7209</td>\n",
       "    </tr>\n",
       "    <tr>\n",
       "      <th>129691</th>\n",
       "      <td>816</td>\n",
       "    </tr>\n",
       "    <tr>\n",
       "      <th>129692</th>\n",
       "      <td>408</td>\n",
       "    </tr>\n",
       "  </tbody>\n",
       "</table>\n",
       "<p>129693 rows × 1 columns</p>\n",
       "</div>"
      ],
      "text/plain": [
       "        price\n",
       "0       16075\n",
       "1         904\n",
       "2        1016\n",
       "3        1173\n",
       "4       11655\n",
       "...       ...\n",
       "129688   1410\n",
       "129689  15064\n",
       "129690   7209\n",
       "129691    816\n",
       "129692    408\n",
       "\n",
       "[129693 rows x 1 columns]"
      ]
     },
     "execution_count": 15,
     "metadata": {},
     "output_type": "execute_result"
    }
   ],
   "source": [
    "y_train"
   ]
  },
  {
   "cell_type": "code",
   "execution_count": 16,
   "metadata": {},
   "outputs": [],
   "source": [
    "from sklearn.linear_model import LinearRegression,Ridge,Lasso,ElasticNet\n",
    "from sklearn.ensemble import GradientBoostingRegressor,AdaBoostRegressor\n",
    "from xgboost import XGBRegressor"
   ]
  },
  {
   "cell_type": "code",
   "execution_count": 17,
   "metadata": {},
   "outputs": [],
   "source": [
    "from sklearn.metrics import mean_absolute_error,mean_squared_error,r2_score"
   ]
  },
  {
   "cell_type": "code",
   "execution_count": 18,
   "metadata": {},
   "outputs": [],
   "source": [
    "models1 = {\n",
    "    \"LinearRegression\":LinearRegression(),\n",
    "    \"RidgeRegression\":Ridge(),\n",
    "    \"LassoRegression\":Lasso(),\n",
    "    \"ElasticNetRegression\":ElasticNet()\n",
    "}"
   ]
  },
  {
   "cell_type": "code",
   "execution_count": 19,
   "metadata": {},
   "outputs": [],
   "source": [
    "def model_performance(Models_dict,x_training,y_training,x_testing,y_testing):\n",
    "    models = Models_dict\n",
    "    x_train_func = x_training\n",
    "    y_train_func = y_training\n",
    "    x_test_func = x_testing\n",
    "    y_test_func = y_testing\n",
    "    for i in models.keys():\n",
    "        model = models[i]\n",
    "        model.fit(x_train_func,y_train_func)\n",
    "        y_pred_func = model.predict(x_test_func)\n",
    "        MAE = mean_absolute_error(y_test_func,y_pred_func)\n",
    "        MSE = mean_squared_error(y_test_func,y_pred_func)\n",
    "        r2score = r2_score(y_test_func,y_pred_func)\n",
    "        print(i)\n",
    "        print(\"MAE:\",MAE)\n",
    "        print(\"MSE:\",MSE)\n",
    "        print(\"r2_score:\",r2score)\n",
    "        print(\"================================\")"
   ]
  },
  {
   "cell_type": "code",
   "execution_count": 20,
   "metadata": {},
   "outputs": [
    {
     "name": "stdout",
     "output_type": "stream",
     "text": [
      "LinearRegression\n",
      "MAE: 674.7352796098304\n",
      "MSE: 1028753.6398275062\n",
      "r2_score: 0.9363893549824441\n",
      "================================\n",
      "RidgeRegression\n",
      "MAE: 674.7687088427462\n",
      "MSE: 1028762.3061423723\n",
      "r2_score: 0.9363888191205456\n",
      "================================\n",
      "LassoRegression\n",
      "MAE: 675.8986621286323\n",
      "MSE: 1028878.7702079996\n",
      "r2_score: 0.9363816178295377\n",
      "================================\n",
      "ElasticNetRegression\n",
      "MAE: 1061.3169023914195\n",
      "MSE: 2353384.972340876\n",
      "r2_score: 0.854483784776376\n",
      "================================\n"
     ]
    }
   ],
   "source": [
    "model_performance(models1,x_train_processed,y_train,x_test_processed,y_test)"
   ]
  },
  {
   "cell_type": "code",
   "execution_count": 21,
   "metadata": {},
   "outputs": [],
   "source": [
    "models2 = {\n",
    "    \"GradientBoostingRegression\":GradientBoostingRegressor(),\n",
    "    \"AdaBoostRegression\":AdaBoostRegressor(),\n",
    "    \"XgBoostRegression\":XGBRegressor()\n",
    "}"
   ]
  },
  {
   "cell_type": "code",
   "execution_count": 22,
   "metadata": {},
   "outputs": [
    {
     "name": "stdout",
     "output_type": "stream",
     "text": [
      "GradientBoostingRegression\n",
      "MAE: 330.8752393132752\n",
      "MSE: 381584.57647629274\n",
      "r2_score: 0.976405584292778\n",
      "================================\n",
      "AdaBoostRegression\n",
      "MAE: 924.3730733130429\n",
      "MSE: 1779485.8179873496\n",
      "r2_score: 0.8899695356599197\n",
      "================================\n",
      "XgBoostRegression\n",
      "MAE: 298.09049175790346\n",
      "MSE: 349081.67751095246\n",
      "r2_score: 0.9784153272361639\n",
      "================================\n"
     ]
    }
   ],
   "source": [
    "model_performance(models2,x_train_processed,y_train,x_test_processed,y_test)"
   ]
  },
  {
   "cell_type": "markdown",
   "metadata": {},
   "source": [
    "<font color = #F94C10,font size=5> We use XgBoost because it has highest r2 score</font>"
   ]
  },
  {
   "cell_type": "code",
   "execution_count": null,
   "metadata": {},
   "outputs": [],
   "source": []
  }
 ],
 "metadata": {
  "kernelspec": {
   "display_name": "Python 3",
   "language": "python",
   "name": "python3"
  },
  "language_info": {
   "codemirror_mode": {
    "name": "ipython",
    "version": 3
   },
   "file_extension": ".py",
   "mimetype": "text/x-python",
   "name": "python",
   "nbconvert_exporter": "python",
   "pygments_lexer": "ipython3",
   "version": "3.11.0"
  },
  "orig_nbformat": 4
 },
 "nbformat": 4,
 "nbformat_minor": 2
}
